{
 "cells": [
  {
   "cell_type": "markdown",
   "id": "4003dd9c-c67e-4aba-9d5e-54a63c4417de",
   "metadata": {},
   "source": [
    "# Inspect results"
   ]
  },
  {
   "cell_type": "code",
   "execution_count": 1,
   "id": "773536fa-9538-4411-b8da-f3246ba442c4",
   "metadata": {},
   "outputs": [],
   "source": [
    "import pandas as pd\n",
    "import numpy as np"
   ]
  },
  {
   "cell_type": "code",
   "execution_count": 2,
   "id": "0601713f-da60-4a88-a1ec-632bace20893",
   "metadata": {},
   "outputs": [],
   "source": [
    "from pathlib import Path"
   ]
  },
  {
   "cell_type": "code",
   "execution_count": 3,
   "id": "2ac9c674-b3f9-4381-b79d-efcdb3c51d4a",
   "metadata": {},
   "outputs": [],
   "source": [
    "data_path = Path(\"./outputs/2024-10-25/\")"
   ]
  },
  {
   "cell_type": "code",
   "execution_count": 4,
   "id": "d0e5a7ea-5dff-4e31-9aad-453868b3b5f1",
   "metadata": {},
   "outputs": [],
   "source": [
    "method = \"csv\"\n",
    "\n",
    "if method == \"bebeziana\":\n",
    "    import bebeziana\n",
    "    data = bebeziana.read(data_path, [\"setup.yaml\", \"results.yaml\"])\n",
    "    \n",
    "elif method == \"csv\":\n",
    "    data = pd.read_csv(data_path / \"data.csv\")"
   ]
  },
  {
   "cell_type": "code",
   "execution_count": 5,
   "id": "fd2c0b01-45f4-4b3d-a9bd-6bca9c613e53",
   "metadata": {},
   "outputs": [],
   "source": [
    "data[\"absolute_error\"] = (data[\"distribution.mutual_information\"] - data[\"mutual_information.mean\"]).abs()"
   ]
  },
  {
   "cell_type": "code",
   "execution_count": 6,
   "id": "9060e358-03db-422f-b995-7bba41c562a0",
   "metadata": {},
   "outputs": [
    {
     "name": "stdout",
     "output_type": "stream",
     "text": [
      "                                                                                                absolute_error\n",
      "estimator._target_         distribution._target_                         estimator.k_neighbors                \n",
      "mutinfo.estimators.knn.KSG mutinfo.distributions.base.CorrelatedStudent  1                            1.387434\n",
      "                                                                         2                            1.561190\n",
      "                                                                         3                            1.679005\n",
      "                                                                         5                            1.843043\n",
      "                                                                         10                           2.092726\n",
      "                                                                         20                           2.378949\n",
      "                           mutinfo.distributions.base.SmoothedUniform    1                            1.164158\n",
      "                                                                         2                            1.299207\n",
      "                                                                         3                            1.386712\n",
      "                                                                         5                            1.506674\n",
      "                                                                         10                           1.688850\n",
      "                                                                         20                           1.891355\n",
      "                           mutinfo.distributions.base.UniformlyQuantized 1                            2.016904\n",
      "                                                                         2                            2.307486\n",
      "                                                                         3                            2.405918\n",
      "                                                                         5                            2.556821\n",
      "                                                                         10                           2.860865\n",
      "                                                                         20                           2.927595\n"
     ]
    }
   ],
   "source": [
    "#print(data.groupby([\"estimator._target_\", \"distribution._target_\", \"distribution.mutual_information\", \"estimator.k_neighbors\"])[\"absolute_error\"].mean().to_string())\n",
    "print(data.groupby([\"estimator._target_\", \"distribution._target_\", \"estimator.k_neighbors\"])[[\"absolute_error\"]].mean().to_string())"
   ]
  },
  {
   "cell_type": "code",
   "execution_count": null,
   "id": "912833c3-5ae3-4ae4-b785-fa22c3bf0620",
   "metadata": {},
   "outputs": [],
   "source": []
  }
 ],
 "metadata": {
  "kernelspec": {
   "display_name": "mutinfo",
   "language": "python",
   "name": "mutinfo"
  },
  "language_info": {
   "codemirror_mode": {
    "name": "ipython",
    "version": 3
   },
   "file_extension": ".py",
   "mimetype": "text/x-python",
   "name": "python",
   "nbconvert_exporter": "python",
   "pygments_lexer": "ipython3",
   "version": "3.11.2"
  }
 },
 "nbformat": 4,
 "nbformat_minor": 5
}
