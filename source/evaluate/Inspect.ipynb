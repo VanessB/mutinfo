{
 "cells": [
  {
   "cell_type": "markdown",
   "id": "4003dd9c-c67e-4aba-9d5e-54a63c4417de",
   "metadata": {},
   "source": [
    "# Inspect results"
   ]
  },
  {
   "cell_type": "code",
   "execution_count": null,
   "id": "773536fa-9538-4411-b8da-f3246ba442c4",
   "metadata": {},
   "outputs": [],
   "source": [
    "import pandas as pd\n",
    "import numpy as np"
   ]
  },
  {
   "cell_type": "code",
   "execution_count": null,
   "id": "0601713f-da60-4a88-a1ec-632bace20893",
   "metadata": {},
   "outputs": [],
   "source": [
    "from pathlib import Path"
   ]
  },
  {
   "cell_type": "code",
   "execution_count": null,
   "id": "2ac9c674-b3f9-4381-b79d-efcdb3c51d4a",
   "metadata": {},
   "outputs": [],
   "source": [
    "data_path = Path(\"./outputs/2024-12-11/\")"
   ]
  },
  {
   "cell_type": "code",
   "execution_count": null,
   "id": "d0e5a7ea-5dff-4e31-9aad-453868b3b5f1",
   "metadata": {},
   "outputs": [],
   "source": [
    "method = \"bebeziana\"\n",
    "\n",
    "if method == \"bebeziana\":\n",
    "    import bebeziana\n",
    "    data = bebeziana.read(data_path, [\"setup.yaml\", \"results.yaml\"])\n",
    "    \n",
    "elif method == \"csv\":\n",
    "    data = pd.read_csv(data_path / \"data.csv\")"
   ]
  },
  {
   "cell_type": "code",
   "execution_count": null,
   "id": "fd2c0b01-45f4-4b3d-a9bd-6bca9c613e53",
   "metadata": {},
   "outputs": [],
   "source": [
    "data[\"absolute_error\"] = (data[\"distribution.mutual_information\"] - data[\"mutual_information.mean\"]).abs()"
   ]
  },
  {
   "cell_type": "code",
   "execution_count": null,
   "id": "cb39f0ad-fb31-42c4-af46-5b7a02f44553",
   "metadata": {},
   "outputs": [],
   "source": [
    "data"
   ]
  },
  {
   "cell_type": "code",
   "execution_count": null,
   "id": "51b371f5-9cf1-4eef-8438-9ffff07cfe5d",
   "metadata": {},
   "outputs": [],
   "source": [
    "data.columns"
   ]
  },
  {
   "cell_type": "code",
   "execution_count": null,
   "id": "633585b2-cb26-4dcd-9514-2fceaa358b22",
   "metadata": {},
   "outputs": [],
   "source": [
    "data = data[data[\"distribution.mutual_information\"] == 5.0]"
   ]
  },
  {
   "cell_type": "code",
   "execution_count": null,
   "id": "c8ec9e0e-1dac-48ca-ba8d-ebd089bfcb0d",
   "metadata": {},
   "outputs": [],
   "source": [
    "data"
   ]
  },
  {
   "cell_type": "code",
   "execution_count": null,
   "id": "9060e358-03db-422f-b995-7bba41c562a0",
   "metadata": {},
   "outputs": [],
   "source": [
    "#print(data.groupby([\"estimator._target_\", \"distribution._target_\", \"distribution.mutual_information\", \"estimator.k_neighbors\"])[\"absolute_error\"].mean().to_string())\n",
    "print(data.groupby([\"estimator._target_\", \"distribution._target_\", \"estimator.k_neighbors\"])[[\"absolute_error\"]].mean().to_string())"
   ]
  },
  {
   "cell_type": "code",
   "execution_count": null,
   "id": "71af4a95-ae4b-4517-a619-d01ba3349756",
   "metadata": {},
   "outputs": [],
   "source": []
  },
  {
   "cell_type": "code",
   "execution_count": null,
   "id": "912833c3-5ae3-4ae4-b785-fa22c3bf0620",
   "metadata": {},
   "outputs": [],
   "source": [
    "print(data[data[\"distribution._target_\"] == \"mutinfo.distributions.base.LogGammaExponential\"].groupby([\"distribution._target_\", \"distribution.mutual_information\"])[[\"mutual_information.mean\"]].mean().to_string())"
   ]
  },
  {
   "cell_type": "code",
   "execution_count": null,
   "id": "44ee3942-25a5-4ac6-98bb-1856198d7d0c",
   "metadata": {},
   "outputs": [],
   "source": [
    "from matplotlib import pyplot\n",
    "xy = pd.DataFrame(data[data[\"distribution._target_\"] == \"mutinfo.distributions.base.GammaExponential\"].groupby([\"distribution._target_\", \"distribution.mutual_information\"])[[\"mutual_information.mean\"]].mean())"
   ]
  },
  {
   "cell_type": "code",
   "execution_count": null,
   "id": "4d452f7b-2b49-4522-90a2-22a829d12d74",
   "metadata": {},
   "outputs": [],
   "source": [
    "xy = xy.reset_index()"
   ]
  },
  {
   "cell_type": "code",
   "execution_count": null,
   "id": "79dd6e5c-1d02-4902-89cb-cbfec8235590",
   "metadata": {},
   "outputs": [],
   "source": [
    "pyplot.ylim((0.0, 10.0))\n",
    "pyplot.xlim((0.0, 10.0))\n",
    "pyplot.plot(xy[\"distribution.mutual_information\"], xy[\"mutual_information.mean\"])"
   ]
  },
  {
   "cell_type": "code",
   "execution_count": null,
   "id": "fe356f07-5a37-44b6-a8c5-78b8091a9806",
   "metadata": {},
   "outputs": [],
   "source": [
    "data"
   ]
  },
  {
   "cell_type": "code",
   "execution_count": null,
   "id": "01ad14d4-f763-49b7-aec1-a6d7037e60ef",
   "metadata": {},
   "outputs": [],
   "source": []
  }
 ],
 "metadata": {
  "kernelspec": {
   "display_name": "Python 3 (ipykernel)",
   "language": "python",
   "name": "python3"
  },
  "language_info": {
   "codemirror_mode": {
    "name": "ipython",
    "version": 3
   },
   "file_extension": ".py",
   "mimetype": "text/x-python",
   "name": "python",
   "nbconvert_exporter": "python",
   "pygments_lexer": "ipython3",
   "version": "3.10.13"
  }
 },
 "nbformat": 4,
 "nbformat_minor": 5
}
