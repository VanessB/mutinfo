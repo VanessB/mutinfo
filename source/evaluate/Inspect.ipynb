{
 "cells": [
  {
   "cell_type": "markdown",
   "id": "4003dd9c-c67e-4aba-9d5e-54a63c4417de",
   "metadata": {},
   "source": [
    "# Inspect results"
   ]
  },
  {
   "cell_type": "code",
   "execution_count": null,
   "id": "773536fa-9538-4411-b8da-f3246ba442c4",
   "metadata": {},
   "outputs": [],
   "source": [
    "import pandas as pd\n",
    "import numpy as np"
   ]
  },
  {
   "cell_type": "code",
   "execution_count": null,
   "id": "0601713f-da60-4a88-a1ec-632bace20893",
   "metadata": {},
   "outputs": [],
   "source": [
    "from pathlib import Path"
   ]
  },
  {
   "cell_type": "code",
   "execution_count": null,
   "id": "2ac9c674-b3f9-4381-b79d-efcdb3c51d4a",
   "metadata": {},
   "outputs": [],
   "source": [
    "data_path = Path(\"./outputs/InfoNCE.2025.04.1/\")"
   ]
  },
  {
   "cell_type": "code",
   "execution_count": null,
   "id": "d0e5a7ea-5dff-4e31-9aad-453868b3b5f1",
   "metadata": {},
   "outputs": [],
   "source": [
    "method = \"csv\"\n",
    "\n",
    "if method == \"bebeziana\":\n",
    "    import bebeziana\n",
    "    data = bebeziana.read(data_path, [\"setup.yaml\", \"results.yaml\"])\n",
    "    \n",
    "elif method == \"csv\":\n",
    "    data = pd.read_csv(data_path / \"data.csv\")"
   ]
  },
  {
   "cell_type": "code",
   "execution_count": null,
   "id": "fd2c0b01-45f4-4b3d-a9bd-6bca9c613e53",
   "metadata": {},
   "outputs": [],
   "source": [
    "data[\"absolute_error\"] = (data[\"distribution.mutual_information\"] - data[\"mutual_information.mean\"]).abs()"
   ]
  },
  {
   "cell_type": "code",
   "execution_count": null,
   "id": "cb39f0ad-fb31-42c4-af46-5b7a02f44553",
   "metadata": {},
   "outputs": [],
   "source": [
    "data.head()"
   ]
  },
  {
   "cell_type": "code",
   "execution_count": null,
   "id": "51b371f5-9cf1-4eef-8438-9ffff07cfe5d",
   "metadata": {},
   "outputs": [],
   "source": [
    "data.columns"
   ]
  },
  {
   "cell_type": "code",
   "execution_count": null,
   "id": "4d39df19-91ff-4826-a51e-a86673a3615e",
   "metadata": {},
   "outputs": [],
   "source": [
    "min_columns = [\n",
    "    #\"estimator.k_neighbors\"\n",
    "    \"estimator.estimator.estimate_fraction\",\n",
    "    \"estimator.estimator.backbone_factory.hidden_dim\",\n",
    "    #\"n_parameters\",\n",
    "]"
   ]
  },
  {
   "cell_type": "code",
   "execution_count": null,
   "id": "8b203b1b-051f-460d-a430-4102ebd34be1",
   "metadata": {},
   "outputs": [],
   "source": [
    "#column_to_chart = \"estimator.k_neighbors\"\n",
    "#column_to_chart = \"n_samples\"\n",
    "column_to_chart = \"distribution.mutual_information\""
   ]
  },
  {
   "cell_type": "code",
   "execution_count": null,
   "id": "41b34f3c-74c3-4ca3-a717-143f6e0c7a61",
   "metadata": {},
   "outputs": [],
   "source": [
    "rows_to_chart = [\n",
    "    \"distribution._target_\",\n",
    "    \"estimator._target_\",\n",
    "]"
   ]
  },
  {
   "cell_type": "code",
   "execution_count": null,
   "id": "e05ff369-749f-4637-bbdf-743ad9826a38",
   "metadata": {},
   "outputs": [],
   "source": [
    "#selected = data[(data[\"n_samples\"] == 10000) & (data[\"estimator.estimator.estimate_fraction\"] == 0.5)]\n",
    "#selected = data[data[\"estimator.k_neighbors\"] == 1]\n",
    "selected = data"
   ]
  },
  {
   "cell_type": "code",
   "execution_count": null,
   "id": "e599666a-6107-46df-b0bb-98eb7f5f3451",
   "metadata": {},
   "outputs": [],
   "source": [
    "selected = pd.DataFrame(\n",
    "    selected.groupby(\n",
    "        rows_to_chart + [column_to_chart] + min_columns,\n",
    "        dropna=False\n",
    "    )[[\"absolute_error\"]].mean()\n",
    ")"
   ]
  },
  {
   "cell_type": "code",
   "execution_count": null,
   "id": "c2e5b9e3-ea92-4ab5-862a-8bf9b16e69e5",
   "metadata": {},
   "outputs": [],
   "source": [
    "selected = pd.DataFrame(\n",
    "    selected.groupby(\n",
    "        rows_to_chart + [column_to_chart],\n",
    "        dropna=False\n",
    "    )[[\"absolute_error\"]].min()\n",
    ")"
   ]
  },
  {
   "cell_type": "code",
   "execution_count": null,
   "id": "5ae89e06-3afd-42d0-be93-02160d930058",
   "metadata": {},
   "outputs": [],
   "source": [
    "selected = selected.unstack(column_to_chart)"
   ]
  },
  {
   "cell_type": "code",
   "execution_count": null,
   "id": "8d6d63e6-22ad-4786-8b78-b8fa05070b9d",
   "metadata": {},
   "outputs": [],
   "source": [
    "selected"
   ]
  },
  {
   "cell_type": "code",
   "execution_count": null,
   "id": "6c404b32-a48b-4097-8db5-a3dcf1607555",
   "metadata": {},
   "outputs": [],
   "source": [
    "print(selected.to_latex(na_rep=\"--\", float_format=\"$ {:0.2f} $\".format))"
   ]
  },
  {
   "cell_type": "code",
   "execution_count": null,
   "id": "0cd9d011-d858-4259-be41-0b4a1e5f8c6c",
   "metadata": {},
   "outputs": [],
   "source": []
  }
 ],
 "metadata": {
  "kernelspec": {
   "display_name": "Python 3 (ipykernel)",
   "language": "python",
   "name": "python3"
  },
  "language_info": {
   "codemirror_mode": {
    "name": "ipython",
    "version": 3
   },
   "file_extension": ".py",
   "mimetype": "text/x-python",
   "name": "python",
   "nbconvert_exporter": "python",
   "pygments_lexer": "ipython3",
   "version": "3.13.3"
  }
 },
 "nbformat": 4,
 "nbformat_minor": 5
}
